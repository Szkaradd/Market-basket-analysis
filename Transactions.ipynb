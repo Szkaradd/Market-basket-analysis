{
 "cells": [
  {
   "cell_type": "code",
   "execution_count": 98,
   "id": "87963d1d",
   "metadata": {},
   "outputs": [],
   "source": [
    "import numpy as np\n",
    "import pandas as pd\n",
    "from mlxtend.frequent_patterns import apriori\n",
    "from mlxtend.frequent_patterns import association_rules\n",
    "from mlxtend.frequent_patterns import fpgrowth\n",
    "from mlxtend.preprocessing import TransactionEncoder\n",
    "from datetime import date\n",
    "from datetime import datetime\n",
    "\n",
    "from scipy.sparse import csr_matrix\n",
    "\n",
    "from sklearn.cluster import KMeans\n",
    "from sklearn.preprocessing import LabelEncoder\n",
    "import matplotlib.pyplot as plt\n",
    "from kneed import KneeLocator\n",
    "from sklearn.metrics import silhouette_score\n",
    "from sklearn.cluster import DBSCAN"
   ]
  },
  {
   "cell_type": "code",
   "execution_count": 64,
   "id": "aa20cb9a",
   "metadata": {},
   "outputs": [
    {
     "name": "stdout",
     "output_type": "stream",
     "text": [
      "Type of column transaction_id is object\n",
      "Type of column sales_datetime is object\n",
      "Type of column customer_id is object\n",
      "Type of column product_id is object\n",
      "Type of column quantity is float64\n",
      "Type of column price is float64\n",
      "Type of column category_id is int64\n",
      "Type of column parent_id is int64\n",
      "Type of column store_id is int64\n",
      "Type of column department_id is int64\n",
      "Type of column salesperson_id is int64\n"
     ]
    }
   ],
   "source": [
    "df = pd.read_csv('edzd_trans_data.csv')\n",
    "# print type of each column\n",
    "for col in df.columns:\n",
    "    print(\"Type of column\", col, \"is\", df[col].dtype)"
   ]
  },
  {
   "cell_type": "code",
   "execution_count": 65,
   "id": "f000b270",
   "metadata": {},
   "outputs": [
    {
     "name": "stdout",
     "output_type": "stream",
     "text": [
      "Type of column transaction_id is int32\n",
      "Type of column sales_datetime is object\n",
      "Type of column customer_id is object\n",
      "Type of column product_id is int32\n",
      "Type of column quantity is float64\n",
      "Type of column price is float64\n",
      "Type of column category_id is int64\n",
      "Type of column parent_id is int64\n",
      "Type of column store_id is int64\n",
      "Type of column department_id is int64\n",
      "Type of column salesperson_id is int64\n"
     ]
    }
   ],
   "source": [
    "# change the type of product_id to int and number them from 1 to number of different product_ids\n",
    "df['product_id'] = df['product_id'].astype('category')\n",
    "df['product_id'] = df['product_id'].cat.codes\n",
    "\n",
    "# change the type of transaction_id to int and number them from 1 to number of different transaction_ids\n",
    "df['transaction_id'] = df['transaction_id'].astype('category')\n",
    "df['transaction_id'] = df['transaction_id'].cat.codes\n",
    "\n",
    "# df['customer_id'] = df['customer_id'].astype('string')\n",
    "\n",
    "for col in df.columns:\n",
    "    print(\"Type of column\", col, \"is\", df[col].dtype)"
   ]
  },
  {
   "cell_type": "code",
   "execution_count": 4,
   "id": "e8d95c3b",
   "metadata": {},
   "outputs": [
    {
     "name": "stdout",
     "output_type": "stream",
     "text": [
      "   transaction_id       sales_datetime customer_id  product_id  quantity  \\\n",
      "0          680577  2011-01-01 09:04:00          -1         157       1.0   \n",
      "1         3148654  2011-01-01 09:04:00          -1       43930       1.0   \n",
      "2         3148654  2011-01-01 09:04:00          -1       12666       1.0   \n",
      "3          651357  2011-01-01 09:08:00          -1       39576       1.0   \n",
      "4          651357  2011-01-01 09:08:00          -1       44343       1.0   \n",
      "\n",
      "   price  category_id  parent_id  store_id  department_id  salesperson_id  \n",
      "0   13.5          208         29        18              2             108  \n",
      "1    6.5          179         30        17              2             108  \n",
      "2    6.5          179         30        17              2             108  \n",
      "3   10.5          175         29         1              2             108  \n",
      "4   17.5          208         29         1              2             108  \n",
      "(8159536, 11)\n"
     ]
    }
   ],
   "source": [
    "print(df.head())\n",
    "print(df.shape)"
   ]
  },
  {
   "cell_type": "markdown",
   "id": "61f6293c",
   "metadata": {},
   "source": [
    "## next"
   ]
  },
  {
   "cell_type": "code",
   "execution_count": 5,
   "id": "68dc9ff6",
   "metadata": {},
   "outputs": [
    {
     "name": "stdout",
     "output_type": "stream",
     "text": [
      "   0      1      2      3      4      5      6      7      8      9      ...  \\\n",
      "0      0      0      0      0      0      0      0      0      0      0  ...   \n",
      "1      0      0      0      0      0      0      0      0      0      0  ...   \n",
      "2      0      0      0      0      0      0      0      0      0      0  ...   \n",
      "3      0      0      0      0      0      0      0      0      0      0  ...   \n",
      "4      0      0      0      0      0      0      0      0      0      0  ...   \n",
      "\n",
      "   94092  94093  94094  94095  94096  94097  94098  94099  94100  94101  \n",
      "0      0      0      0      0      0      0      0      0      0      0  \n",
      "1      0      0      0      0      0      0      0      0      0      0  \n",
      "2      0      0      0      0      0      0      0      0      0      0  \n",
      "3      0      0      0      0      0      0      0      0      0      0  \n",
      "4      0      0      0      0      0      0      0      0      0      0  \n",
      "\n",
      "[5 rows x 94102 columns]\n"
     ]
    }
   ],
   "source": [
    "# Create a sparse matrix of the data group it by transaction_id and product_id\n",
    "my_basket = csr_matrix(\n",
    "    (df['quantity'], (df['transaction_id'], df['product_id'])))\n",
    "\n",
    "# change all positive values to 1 and all negative values to 0\n",
    "my_basket.data = np.where(my_basket.data > 0, 1, 0)\n",
    "\n",
    "# Create a dataframe of the sparse matrix\n",
    "my_basket = pd.DataFrame.sparse.from_spmatrix(my_basket)\n",
    "print(my_basket.head())"
   ]
  },
  {
   "cell_type": "code",
   "execution_count": 6,
   "id": "4d277c96",
   "metadata": {},
   "outputs": [
    {
     "name": "stderr",
     "output_type": "stream",
     "text": [
      "/tmp/ipykernel_44411/1440229732.py:6: FutureWarning: The behavior of .astype from SparseDtype to a non-sparse dtype is deprecated. In a future version, this will return a non-sparse array with the requested dtype. To retain the old behavior, use `obj.astype(SparseDtype(dtype))`\n",
      "  my_basket_sets = my_basket_sets.astype(bool)\n"
     ]
    },
    {
     "name": "stdout",
     "output_type": "stream",
     "text": [
      "   0      1      2      3      4      5      6      7      8      9      ...  \\\n",
      "0  False  False  False  False  False  False  False  False  False  False  ...   \n",
      "1  False  False  False  False  False  False  False  False  False  False  ...   \n",
      "2  False  False  False  False  False  False  False  False  False  False  ...   \n",
      "3  False  False  False  False  False  False  False  False  False  False  ...   \n",
      "4  False  False  False  False  False  False  False  False  False  False  ...   \n",
      "\n",
      "   94092  94093  94094  94095  94096  94097  94098  94099  94100  94101  \n",
      "0  False  False  False  False  False  False  False  False  False  False  \n",
      "1  False  False  False  False  False  False  False  False  False  False  \n",
      "2  False  False  False  False  False  False  False  False  False  False  \n",
      "3  False  False  False  False  False  False  False  False  False  False  \n",
      "4  False  False  False  False  False  False  False  False  False  False  \n",
      "\n",
      "[5 rows x 94102 columns]\n"
     ]
    }
   ],
   "source": [
    "my_basket_sets = my_basket\n",
    "\n",
    "# print(my_basket_sets.head())\n",
    "\n",
    "# change all values to boolean\n",
    "my_basket_sets = my_basket_sets.astype(bool)\n",
    "\n",
    "print(my_basket_sets.head())"
   ]
  },
  {
   "cell_type": "code",
   "execution_count": 7,
   "id": "c0b606f2",
   "metadata": {},
   "outputs": [
    {
     "name": "stdout",
     "output_type": "stream",
     "text": [
      "1369\n"
     ]
    }
   ],
   "source": [
    "# get date from string\n",
    "def get_date(string):\n",
    "    return datetime.strptime(string, '%Y-%m-%d %H:%M:%S').date()\n",
    "\n",
    "# number of days over which data was collected\n",
    "delta = get_date(max(df['sales_datetime'])) - get_date(min(df['sales_datetime']))\n",
    "days_count = delta.days\n",
    "print(days_count)\n",
    "\n",
    "# number of transactions in our data\n",
    "transactions_count = df.shape[0]"
   ]
  },
  {
   "cell_type": "code",
   "execution_count": 8,
   "id": "0b700b07",
   "metadata": {},
   "outputs": [
    {
     "name": "stdout",
     "output_type": "stream",
     "text": [
      "there are 37 frequent itemsets\n"
     ]
    }
   ],
   "source": [
    "# frequent = appears at least in 20 transactions in a day\n",
    "min_support = 20 * days_count / transactions_count\n",
    "\n",
    "my_frequent_itemsets = apriori(my_basket_sets, min_support=min_support)\n",
    "\n",
    "print(\"there are \" + str(my_frequent_itemsets.shape[0]) + \" frequent itemsets\")"
   ]
  },
  {
   "cell_type": "code",
   "execution_count": null,
   "id": "ecaca036",
   "metadata": {},
   "outputs": [],
   "source": [
    "# frequent = appears at least in 3 transactions in a day\n",
    "min_support = 3 * days_count / transactions_count\n",
    "\n",
    "my_frequent_itemsets = fpgrowth(my_basket_sets, min_support=min_support)\n",
    "\n",
    "print(\"there are \" + str(my_frequent_itemsets.shape[0]) + \" frequent itemsets\")"
   ]
  },
  {
   "cell_type": "markdown",
   "id": "fc5d3d40",
   "metadata": {},
   "source": [
    "## different way of getting the sparse matrix - by using TransactionEncoder"
   ]
  },
  {
   "cell_type": "code",
   "execution_count": null,
   "id": "f8dc612d",
   "metadata": {},
   "outputs": [],
   "source": [
    "df_grouped = df.groupby('transaction_id')['product_id'].apply(list)\n",
    "dataset = df_grouped.tolist()\n",
    "print(dataset[:5])"
   ]
  },
  {
   "cell_type": "code",
   "execution_count": null,
   "id": "57d07233",
   "metadata": {},
   "outputs": [],
   "source": [
    "te = TransactionEncoder()\n",
    "fitted = te.fit(dataset)\n",
    "te_ary = fitted.transform(dataset, sparse=True)\n",
    "my_basket = pd.DataFrame.sparse.from_spmatrix(te_ary, columns=te.columns_)\n",
    "print(my_basket.head())"
   ]
  },
  {
   "cell_type": "code",
   "execution_count": null,
   "id": "38af1165",
   "metadata": {},
   "outputs": [],
   "source": [
    "# frequent = appears at least in 30 transactions in a day\n",
    "min_support = 30 * days_count / transactions_count\n",
    "\n",
    "my_frequent_itemsets = apriori(my_basket, min_support=min_support)\n",
    "\n",
    "print(\"there are \" + str(my_frequent_itemsets.shape[0]) + \" frequent itemsets\")"
   ]
  },
  {
   "cell_type": "code",
   "execution_count": null,
   "id": "1bc63ec8",
   "metadata": {},
   "outputs": [],
   "source": [
    "# frequent = appears at least in 3 transactions in a day\n",
    "min_support = 3 * days_count / transactions_count\n",
    "\n",
    "my_frequent_itemsets = fpgrowth(my_basket, min_support=min_support)\n",
    "\n",
    "print(\"there are \" + str(my_frequent_itemsets.shape[0]) + \" frequent itemsets\")"
   ]
  },
  {
   "cell_type": "code",
   "execution_count": null,
   "id": "ae47399c",
   "metadata": {},
   "outputs": [],
   "source": [
    "print(my_frequent_itemsets)"
   ]
  },
  {
   "cell_type": "markdown",
   "id": "5f1dc765",
   "metadata": {},
   "source": [
    "## association rules"
   ]
  },
  {
   "cell_type": "code",
   "execution_count": null,
   "id": "43713a98",
   "metadata": {
    "scrolled": true
   },
   "outputs": [],
   "source": [
    "#only confidence\n",
    "\n",
    "my_association_rules = association_rules(my_frequent_itemsets, metric=\"confidence\", min_threshold=0.7)\n",
    "\n",
    "print(\"there are \" + str(my_association_rules.shape[0]) + \" association rules\")\n",
    "print(my_association_rules)\n",
    "# 10 rules for 893 frequent itemsets\n",
    "# 0 for 37 :("
   ]
  },
  {
   "cell_type": "code",
   "execution_count": null,
   "id": "d4ce384f",
   "metadata": {},
   "outputs": [],
   "source": [
    "#only lift\n",
    "\n",
    "my_association_rules = association_rules(my_frequent_itemsets, metric=\"lift\", min_threshold=1.2)\n",
    "\n",
    "print(\"there are \" + str(my_association_rules.shape[0]) + \" association rules\")\n",
    "print(my_association_rules)\n",
    "# 100 rules for 893 frequent itemsets"
   ]
  },
  {
   "cell_type": "code",
   "execution_count": null,
   "id": "7c4024c0",
   "metadata": {},
   "outputs": [],
   "source": [
    "# antecedent_len >= 2, lift & confidence\n",
    " \n",
    "my_association_rules[\"antecedent_len\"] = my_association_rules[\"antecedents\"].apply(lambda x: len(x))\n",
    "\n",
    "my_association_rules = my_association_rules[ (my_association_rules['antecedent_len'] >= 2) &\n",
    "                                             (my_association_rules['confidence'] > 0.75) &\n",
    "                                             (my_association_rules['lift'] > 1.2) ]\n",
    "\n",
    "print(my_association_rules)"
   ]
  },
  {
   "cell_type": "code",
   "execution_count": null,
   "id": "6c1e4f46",
   "metadata": {
    "scrolled": false
   },
   "outputs": [],
   "source": [
    "my_association_rules[\"antecedent_len\"] = my_association_rules[\"antecedents\"].apply(lambda x: len(x))\n",
    "\n",
    "my_association_rules = my_association_rules[ (my_association_rules['antecedent_len'] >= 1) &\n",
    "                                             (my_association_rules['confidence'] > 0.75) &\n",
    "                                             (my_association_rules['lift'] > 1.2) ]\n",
    "\n",
    "print(my_association_rules)"
   ]
  },
  {
   "cell_type": "code",
   "execution_count": null,
   "id": "401f3029",
   "metadata": {},
   "outputs": [],
   "source": [
    "# jakie warto dać wykresuchy?\n",
    "\n",
    "# ile dostajemy frequent item sets w zależności od min support?\n",
    "# to byłby taki wykres + dyskusja o tym jaki support ma sens względem rozmiaru danych i okresu czasu, z którego są dane\n",
    "\n",
    "# ile dostajemy association rules w zależności od confidence, support, lift? (3 wykresy wow)\n"
   ]
  },
  {
   "cell_type": "code",
   "execution_count": null,
   "id": "7c362195",
   "metadata": {},
   "outputs": [],
   "source": [
    "#support a rozmiar danych i okres czasu, z którego są dane\n"
   ]
  },
  {
   "cell_type": "markdown",
   "id": "c109b600",
   "metadata": {},
   "source": [
    "# Customer analysis"
   ]
  },
  {
   "cell_type": "code",
   "execution_count": null,
   "id": "d08f95a3",
   "metadata": {},
   "outputs": [],
   "source": [
    "# algorytmy do data clustering:\n",
    "# - k-means\n",
    "# - u map\n",
    "# - dbscan"
   ]
  },
  {
   "cell_type": "markdown",
   "id": "613b28f2",
   "metadata": {},
   "source": [
    "## Data clustering"
   ]
  },
  {
   "cell_type": "code",
   "execution_count": 83,
   "id": "6f6775d1",
   "metadata": {},
   "outputs": [
    {
     "name": "stdout",
     "output_type": "stream",
     "text": [
      "         transaction_id       sales_datetime  customer_id  product_id  \\\n",
      "6789             501717  2011-01-03 10:06:00        92354       26838   \n",
      "7478            2418844  2011-01-03 12:01:00       113131       44520   \n",
      "7479            2418844  2011-01-03 12:01:00       113131       57544   \n",
      "8581            3704341  2011-01-03 13:49:00         2419       27992   \n",
      "8582            3704341  2011-01-03 13:49:00         2419       27992   \n",
      "...                 ...                  ...          ...         ...   \n",
      "8159528         3026494  2014-10-01 20:51:00       119861       31054   \n",
      "8159529          797946  2014-10-01 20:54:00         7589       51188   \n",
      "8159530          797946  2014-10-01 20:54:00         7589       44626   \n",
      "8159532          476485  2014-10-01 20:56:00        61463       39927   \n",
      "8159533          476485  2014-10-01 20:56:00        61463       30249   \n",
      "\n",
      "         quantity    price  category_id  parent_id  store_id  department_id  \\\n",
      "6789          1.0  35.0000          110         15         8              1   \n",
      "7478          1.0  31.5000           14          2         9              1   \n",
      "7479          1.0  31.5000           14          2         9              1   \n",
      "8581          3.0  24.1667            6         17        13              1   \n",
      "8582          3.0  26.1000            6         17        13              1   \n",
      "...           ...      ...          ...        ...       ...            ...   \n",
      "8159528       1.0   9.9500          158         25         2              2   \n",
      "8159529       1.0   5.0000          179         30        22              2   \n",
      "8159530       1.0   5.0000          179         30        22              2   \n",
      "8159532       1.0  12.0000          222         25        22              2   \n",
      "8159533       1.0  12.0000          161         27        22              2   \n",
      "\n",
      "         salesperson_id  \n",
      "6789                 25  \n",
      "7478                 38  \n",
      "7479                 38  \n",
      "8581                 71  \n",
      "8582                 71  \n",
      "...                 ...  \n",
      "8159528             367  \n",
      "8159529             396  \n",
      "8159530             396  \n",
      "8159532             396  \n",
      "8159533             396  \n",
      "\n",
      "[3645565 rows x 11 columns]\n"
     ]
    },
    {
     "name": "stderr",
     "output_type": "stream",
     "text": [
      "/tmp/ipykernel_44411/2580210367.py:9: SettingWithCopyWarning: \n",
      "A value is trying to be set on a copy of a slice from a DataFrame.\n",
      "Try using .loc[row_indexer,col_indexer] = value instead\n",
      "\n",
      "See the caveats in the documentation: https://pandas.pydata.org/pandas-docs/stable/user_guide/indexing.html#returning-a-view-versus-a-copy\n",
      "  df_filtered['customer_id'] = le.fit_transform(df_filtered['customer_id'])\n"
     ]
    }
   ],
   "source": [
    "# data should always be\n",
    "# [[customer_id 1, sth related to customer 1, ...], [customer_id 2, sth related to customer 2, ...], ...]\n",
    "\n",
    "# filter out customer_id = -1\n",
    "df_filtered = df[df['customer_id'] != '-1']\n",
    "\n",
    "# change customed_id to numeric\n",
    "le = LabelEncoder()\n",
    "df_filtered['customer_id'] = le.fit_transform(df_filtered['customer_id'])\n",
    "# df_filtered = pd.get_dummies(df_filtered, columns=['customer_id'])\n",
    "\n",
    "print(df_filtered)"
   ]
  },
  {
   "cell_type": "code",
   "execution_count": 84,
   "id": "d76922a9",
   "metadata": {},
   "outputs": [
    {
     "name": "stdout",
     "output_type": "stream",
     "text": [
      "[[0.0, 639006.0, 9.0, 252.99, 2371.0], [1.0, 314060.0, 8.0, 20.5, 1663.0], [2.0, 1962510.0, 32.042699999999996, 410.8, 10555.0], [3.0, 396.0, 1.0, 10.0, 235.0], [4.0, 231356.0, 6.0, 60.87, 1864.0]]\n",
      "204441\n"
     ]
    }
   ],
   "source": [
    "# use the product_id, quantity, price, and category_id columns to cluster customers into\n",
    "# groups of those who have similar purchasing habits\n",
    "df_shortened = df_filtered[['product_id', 'quantity', 'price', 'category_id', 'customer_id']]\n",
    "\n",
    "# group by customer_id and sum the quantities and prices\n",
    "df_grouped = df_shortened.groupby('customer_id').sum()\n",
    "data = df_grouped.reset_index().values.tolist()\n",
    "print(data[:5])\n",
    "print(len(data))"
   ]
  },
  {
   "cell_type": "code",
   "execution_count": 88,
   "id": "1b6c4610",
   "metadata": {},
   "outputs": [
    {
     "name": "stderr",
     "output_type": "stream",
     "text": [
      "/home/zosia/Dokumenty/DZD/Transaction-data/.venv/lib/python3.8/site-packages/sklearn/cluster/_kmeans.py:870: FutureWarning: The default value of `n_init` will change from 10 to 'auto' in 1.4. Set the value of `n_init` explicitly to suppress the warning\n",
      "  warnings.warn(\n",
      "/home/zosia/Dokumenty/DZD/Transaction-data/.venv/lib/python3.8/site-packages/sklearn/cluster/_kmeans.py:870: FutureWarning: The default value of `n_init` will change from 10 to 'auto' in 1.4. Set the value of `n_init` explicitly to suppress the warning\n",
      "  warnings.warn(\n",
      "/home/zosia/Dokumenty/DZD/Transaction-data/.venv/lib/python3.8/site-packages/sklearn/cluster/_kmeans.py:870: FutureWarning: The default value of `n_init` will change from 10 to 'auto' in 1.4. Set the value of `n_init` explicitly to suppress the warning\n",
      "  warnings.warn(\n",
      "/home/zosia/Dokumenty/DZD/Transaction-data/.venv/lib/python3.8/site-packages/sklearn/cluster/_kmeans.py:870: FutureWarning: The default value of `n_init` will change from 10 to 'auto' in 1.4. Set the value of `n_init` explicitly to suppress the warning\n",
      "  warnings.warn(\n",
      "/home/zosia/Dokumenty/DZD/Transaction-data/.venv/lib/python3.8/site-packages/sklearn/cluster/_kmeans.py:870: FutureWarning: The default value of `n_init` will change from 10 to 'auto' in 1.4. Set the value of `n_init` explicitly to suppress the warning\n",
      "  warnings.warn(\n",
      "/home/zosia/Dokumenty/DZD/Transaction-data/.venv/lib/python3.8/site-packages/sklearn/cluster/_kmeans.py:870: FutureWarning: The default value of `n_init` will change from 10 to 'auto' in 1.4. Set the value of `n_init` explicitly to suppress the warning\n",
      "  warnings.warn(\n",
      "/home/zosia/Dokumenty/DZD/Transaction-data/.venv/lib/python3.8/site-packages/sklearn/cluster/_kmeans.py:870: FutureWarning: The default value of `n_init` will change from 10 to 'auto' in 1.4. Set the value of `n_init` explicitly to suppress the warning\n",
      "  warnings.warn(\n",
      "/home/zosia/Dokumenty/DZD/Transaction-data/.venv/lib/python3.8/site-packages/sklearn/cluster/_kmeans.py:870: FutureWarning: The default value of `n_init` will change from 10 to 'auto' in 1.4. Set the value of `n_init` explicitly to suppress the warning\n",
      "  warnings.warn(\n",
      "/home/zosia/Dokumenty/DZD/Transaction-data/.venv/lib/python3.8/site-packages/sklearn/cluster/_kmeans.py:870: FutureWarning: The default value of `n_init` will change from 10 to 'auto' in 1.4. Set the value of `n_init` explicitly to suppress the warning\n",
      "  warnings.warn(\n",
      "/home/zosia/Dokumenty/DZD/Transaction-data/.venv/lib/python3.8/site-packages/sklearn/cluster/_kmeans.py:870: FutureWarning: The default value of `n_init` will change from 10 to 'auto' in 1.4. Set the value of `n_init` explicitly to suppress the warning\n",
      "  warnings.warn(\n"
     ]
    }
   ],
   "source": [
    "# A list holds the SSE values for each k\n",
    "sse = []\n",
    "for k in range(1, 11):\n",
    "    kmeans = KMeans(n_clusters=k)\n",
    "    kmeans.fit(data)\n",
    "    sse.append(kmeans.inertia_)"
   ]
  },
  {
   "cell_type": "code",
   "execution_count": 89,
   "id": "f0b5aa9f",
   "metadata": {},
   "outputs": [
    {
     "data": {
      "image/png": "[encoded data removed]",
      "text/plain": [
       "<Figure size 640x480 with 1 Axes>"
      ]
     },
     "metadata": {},
     "output_type": "display_data"
    }
   ],
   "source": [
    "plt.style.use(\"fivethirtyeight\")\n",
    "plt.plot(range(1, 11), sse)\n",
    "plt.xticks(range(1, 11))\n",
    "plt.xlabel(\"Number of Clusters\")\n",
    "plt.ylabel(\"SSE\")\n",
    "plt.show()"
   ]
  },
  {
   "cell_type": "code",
   "execution_count": 92,
   "id": "8c0a574f",
   "metadata": {},
   "outputs": [],
   "source": [
    "kl = KneeLocator(range(1, 11), sse, curve=\"convex\", direction=\"decreasing\")"
   ]
  },
  {
   "cell_type": "code",
   "execution_count": 93,
   "id": "a6652db8",
   "metadata": {},
   "outputs": [
    {
     "data": {
      "text/plain": [
       "2"
      ]
     },
     "execution_count": 93,
     "metadata": {},
     "output_type": "execute_result"
    }
   ],
   "source": [
    "kl.elbow"
   ]
  },
  {
   "cell_type": "code",
   "execution_count": 97,
   "id": "2f7341ec",
   "metadata": {},
   "outputs": [
    {
     "name": "stderr",
     "output_type": "stream",
     "text": [
      "/home/zosia/Dokumenty/DZD/Transaction-data/.venv/lib/python3.8/site-packages/sklearn/cluster/_kmeans.py:870: FutureWarning: The default value of `n_init` will change from 10 to 'auto' in 1.4. Set the value of `n_init` explicitly to suppress the warning\n",
      "  warnings.warn(\n"
     ]
    },
    {
     "ename": "KeyboardInterrupt",
     "evalue": "",
     "output_type": "error",
     "traceback": [
      "\u001b[0;31m---------------------------------------------------------------------------\u001b[0m",
      "\u001b[0;31mKeyboardInterrupt\u001b[0m                         Traceback (most recent call last)",
      "Cell \u001b[0;32mIn[97], line 8\u001b[0m\n\u001b[1;32m      6\u001b[0m kmeans \u001b[38;5;241m=\u001b[39m KMeans(n_clusters\u001b[38;5;241m=\u001b[39mk)\n\u001b[1;32m      7\u001b[0m kmeans\u001b[38;5;241m.\u001b[39mfit(data)\n\u001b[0;32m----> 8\u001b[0m score \u001b[38;5;241m=\u001b[39m \u001b[43msilhouette_score\u001b[49m\u001b[43m(\u001b[49m\u001b[43mdata\u001b[49m\u001b[43m,\u001b[49m\u001b[43m \u001b[49m\u001b[43mkmeans\u001b[49m\u001b[38;5;241;43m.\u001b[39;49m\u001b[43mlabels_\u001b[49m\u001b[43m)\u001b[49m\n\u001b[1;32m      9\u001b[0m silhouette_coefficients\u001b[38;5;241m.\u001b[39mappend(score)\n",
      "File \u001b[0;32m~/Dokumenty/DZD/Transaction-data/.venv/lib/python3.8/site-packages/sklearn/metrics/cluster/_unsupervised.py:117\u001b[0m, in \u001b[0;36msilhouette_score\u001b[0;34m(X, labels, metric, sample_size, random_state, **kwds)\u001b[0m\n\u001b[1;32m    115\u001b[0m     \u001b[38;5;28;01melse\u001b[39;00m:\n\u001b[1;32m    116\u001b[0m         X, labels \u001b[38;5;241m=\u001b[39m X[indices], labels[indices]\n\u001b[0;32m--> 117\u001b[0m \u001b[38;5;28;01mreturn\u001b[39;00m np\u001b[38;5;241m.\u001b[39mmean(\u001b[43msilhouette_samples\u001b[49m\u001b[43m(\u001b[49m\u001b[43mX\u001b[49m\u001b[43m,\u001b[49m\u001b[43m \u001b[49m\u001b[43mlabels\u001b[49m\u001b[43m,\u001b[49m\u001b[43m \u001b[49m\u001b[43mmetric\u001b[49m\u001b[38;5;241;43m=\u001b[39;49m\u001b[43mmetric\u001b[49m\u001b[43m,\u001b[49m\u001b[43m \u001b[49m\u001b[38;5;241;43m*\u001b[39;49m\u001b[38;5;241;43m*\u001b[39;49m\u001b[43mkwds\u001b[49m\u001b[43m)\u001b[49m)\n",
      "File \u001b[0;32m~/Dokumenty/DZD/Transaction-data/.venv/lib/python3.8/site-packages/sklearn/metrics/cluster/_unsupervised.py:237\u001b[0m, in \u001b[0;36msilhouette_samples\u001b[0;34m(X, labels, metric, **kwds)\u001b[0m\n\u001b[1;32m    233\u001b[0m kwds[\u001b[38;5;124m\"\u001b[39m\u001b[38;5;124mmetric\u001b[39m\u001b[38;5;124m\"\u001b[39m] \u001b[38;5;241m=\u001b[39m metric\n\u001b[1;32m    234\u001b[0m reduce_func \u001b[38;5;241m=\u001b[39m functools\u001b[38;5;241m.\u001b[39mpartial(\n\u001b[1;32m    235\u001b[0m     _silhouette_reduce, labels\u001b[38;5;241m=\u001b[39mlabels, label_freqs\u001b[38;5;241m=\u001b[39mlabel_freqs\n\u001b[1;32m    236\u001b[0m )\n\u001b[0;32m--> 237\u001b[0m results \u001b[38;5;241m=\u001b[39m \u001b[38;5;28;43mzip\u001b[39;49m\u001b[43m(\u001b[49m\u001b[38;5;241;43m*\u001b[39;49m\u001b[43mpairwise_distances_chunked\u001b[49m\u001b[43m(\u001b[49m\u001b[43mX\u001b[49m\u001b[43m,\u001b[49m\u001b[43m \u001b[49m\u001b[43mreduce_func\u001b[49m\u001b[38;5;241;43m=\u001b[39;49m\u001b[43mreduce_func\u001b[49m\u001b[43m,\u001b[49m\u001b[43m \u001b[49m\u001b[38;5;241;43m*\u001b[39;49m\u001b[38;5;241;43m*\u001b[39;49m\u001b[43mkwds\u001b[49m\u001b[43m)\u001b[49m\u001b[43m)\u001b[49m\n\u001b[1;32m    238\u001b[0m intra_clust_dists, inter_clust_dists \u001b[38;5;241m=\u001b[39m results\n\u001b[1;32m    239\u001b[0m intra_clust_dists \u001b[38;5;241m=\u001b[39m np\u001b[38;5;241m.\u001b[39mconcatenate(intra_clust_dists)\n",
      "File \u001b[0;32m~/Dokumenty/DZD/Transaction-data/.venv/lib/python3.8/site-packages/sklearn/metrics/pairwise.py:1867\u001b[0m, in \u001b[0;36mpairwise_distances_chunked\u001b[0;34m(X, Y, reduce_func, metric, n_jobs, working_memory, **kwds)\u001b[0m\n\u001b[1;32m   1865\u001b[0m \u001b[38;5;28;01melse\u001b[39;00m:\n\u001b[1;32m   1866\u001b[0m     X_chunk \u001b[38;5;241m=\u001b[39m X[sl]\n\u001b[0;32m-> 1867\u001b[0m D_chunk \u001b[38;5;241m=\u001b[39m \u001b[43mpairwise_distances\u001b[49m\u001b[43m(\u001b[49m\u001b[43mX_chunk\u001b[49m\u001b[43m,\u001b[49m\u001b[43m \u001b[49m\u001b[43mY\u001b[49m\u001b[43m,\u001b[49m\u001b[43m \u001b[49m\u001b[43mmetric\u001b[49m\u001b[38;5;241;43m=\u001b[39;49m\u001b[43mmetric\u001b[49m\u001b[43m,\u001b[49m\u001b[43m \u001b[49m\u001b[43mn_jobs\u001b[49m\u001b[38;5;241;43m=\u001b[39;49m\u001b[43mn_jobs\u001b[49m\u001b[43m,\u001b[49m\u001b[43m \u001b[49m\u001b[38;5;241;43m*\u001b[39;49m\u001b[38;5;241;43m*\u001b[39;49m\u001b[43mkwds\u001b[49m\u001b[43m)\u001b[49m\n\u001b[1;32m   1868\u001b[0m \u001b[38;5;28;01mif\u001b[39;00m (X \u001b[38;5;129;01mis\u001b[39;00m Y \u001b[38;5;129;01mor\u001b[39;00m Y \u001b[38;5;129;01mis\u001b[39;00m \u001b[38;5;28;01mNone\u001b[39;00m) \u001b[38;5;129;01mand\u001b[39;00m PAIRWISE_DISTANCE_FUNCTIONS\u001b[38;5;241m.\u001b[39mget(\n\u001b[1;32m   1869\u001b[0m     metric, \u001b[38;5;28;01mNone\u001b[39;00m\n\u001b[1;32m   1870\u001b[0m ) \u001b[38;5;129;01mis\u001b[39;00m euclidean_distances:\n\u001b[1;32m   1871\u001b[0m     \u001b[38;5;66;03m# zeroing diagonal, taking care of aliases of \"euclidean\",\u001b[39;00m\n\u001b[1;32m   1872\u001b[0m     \u001b[38;5;66;03m# i.e. \"l2\"\u001b[39;00m\n\u001b[1;32m   1873\u001b[0m     D_chunk\u001b[38;5;241m.\u001b[39mflat[sl\u001b[38;5;241m.\u001b[39mstart :: _num_samples(X) \u001b[38;5;241m+\u001b[39m \u001b[38;5;241m1\u001b[39m] \u001b[38;5;241m=\u001b[39m \u001b[38;5;241m0\u001b[39m\n",
      "File \u001b[0;32m~/Dokumenty/DZD/Transaction-data/.venv/lib/python3.8/site-packages/sklearn/metrics/pairwise.py:2039\u001b[0m, in \u001b[0;36mpairwise_distances\u001b[0;34m(X, Y, metric, n_jobs, force_all_finite, **kwds)\u001b[0m\n\u001b[1;32m   2036\u001b[0m         \u001b[38;5;28;01mreturn\u001b[39;00m distance\u001b[38;5;241m.\u001b[39msquareform(distance\u001b[38;5;241m.\u001b[39mpdist(X, metric\u001b[38;5;241m=\u001b[39mmetric, \u001b[38;5;241m*\u001b[39m\u001b[38;5;241m*\u001b[39mkwds))\n\u001b[1;32m   2037\u001b[0m     func \u001b[38;5;241m=\u001b[39m partial(distance\u001b[38;5;241m.\u001b[39mcdist, metric\u001b[38;5;241m=\u001b[39mmetric, \u001b[38;5;241m*\u001b[39m\u001b[38;5;241m*\u001b[39mkwds)\n\u001b[0;32m-> 2039\u001b[0m \u001b[38;5;28;01mreturn\u001b[39;00m \u001b[43m_parallel_pairwise\u001b[49m\u001b[43m(\u001b[49m\u001b[43mX\u001b[49m\u001b[43m,\u001b[49m\u001b[43m \u001b[49m\u001b[43mY\u001b[49m\u001b[43m,\u001b[49m\u001b[43m \u001b[49m\u001b[43mfunc\u001b[49m\u001b[43m,\u001b[49m\u001b[43m \u001b[49m\u001b[43mn_jobs\u001b[49m\u001b[43m,\u001b[49m\u001b[43m \u001b[49m\u001b[38;5;241;43m*\u001b[39;49m\u001b[38;5;241;43m*\u001b[39;49m\u001b[43mkwds\u001b[49m\u001b[43m)\u001b[49m\n",
      "File \u001b[0;32m~/Dokumenty/DZD/Transaction-data/.venv/lib/python3.8/site-packages/sklearn/metrics/pairwise.py:1579\u001b[0m, in \u001b[0;36m_parallel_pairwise\u001b[0;34m(X, Y, func, n_jobs, **kwds)\u001b[0m\n\u001b[1;32m   1576\u001b[0m X, Y, dtype \u001b[38;5;241m=\u001b[39m _return_float_dtype(X, Y)\n\u001b[1;32m   1578\u001b[0m \u001b[38;5;28;01mif\u001b[39;00m effective_n_jobs(n_jobs) \u001b[38;5;241m==\u001b[39m \u001b[38;5;241m1\u001b[39m:\n\u001b[0;32m-> 1579\u001b[0m     \u001b[38;5;28;01mreturn\u001b[39;00m \u001b[43mfunc\u001b[49m\u001b[43m(\u001b[49m\u001b[43mX\u001b[49m\u001b[43m,\u001b[49m\u001b[43m \u001b[49m\u001b[43mY\u001b[49m\u001b[43m,\u001b[49m\u001b[43m \u001b[49m\u001b[38;5;241;43m*\u001b[39;49m\u001b[38;5;241;43m*\u001b[39;49m\u001b[43mkwds\u001b[49m\u001b[43m)\u001b[49m\n\u001b[1;32m   1581\u001b[0m \u001b[38;5;66;03m# enforce a threading backend to prevent data communication overhead\u001b[39;00m\n\u001b[1;32m   1582\u001b[0m fd \u001b[38;5;241m=\u001b[39m delayed(_dist_wrapper)\n",
      "File \u001b[0;32m~/Dokumenty/DZD/Transaction-data/.venv/lib/python3.8/site-packages/sklearn/metrics/pairwise.py:328\u001b[0m, in \u001b[0;36meuclidean_distances\u001b[0;34m(X, Y, Y_norm_squared, squared, X_norm_squared)\u001b[0m\n\u001b[1;32m    322\u001b[0m     \u001b[38;5;28;01mif\u001b[39;00m Y_norm_squared\u001b[38;5;241m.\u001b[39mshape \u001b[38;5;241m!=\u001b[39m (\u001b[38;5;241m1\u001b[39m, Y\u001b[38;5;241m.\u001b[39mshape[\u001b[38;5;241m0\u001b[39m]):\n\u001b[1;32m    323\u001b[0m         \u001b[38;5;28;01mraise\u001b[39;00m \u001b[38;5;167;01mValueError\u001b[39;00m(\n\u001b[1;32m    324\u001b[0m             \u001b[38;5;124mf\u001b[39m\u001b[38;5;124m\"\u001b[39m\u001b[38;5;124mIncompatible dimensions for Y of shape \u001b[39m\u001b[38;5;132;01m{\u001b[39;00mY\u001b[38;5;241m.\u001b[39mshape\u001b[38;5;132;01m}\u001b[39;00m\u001b[38;5;124m and \u001b[39m\u001b[38;5;124m\"\u001b[39m\n\u001b[1;32m    325\u001b[0m             \u001b[38;5;124mf\u001b[39m\u001b[38;5;124m\"\u001b[39m\u001b[38;5;124mY_norm_squared of shape \u001b[39m\u001b[38;5;132;01m{\u001b[39;00moriginal_shape\u001b[38;5;132;01m}\u001b[39;00m\u001b[38;5;124m.\u001b[39m\u001b[38;5;124m\"\u001b[39m\n\u001b[1;32m    326\u001b[0m         )\n\u001b[0;32m--> 328\u001b[0m \u001b[38;5;28;01mreturn\u001b[39;00m \u001b[43m_euclidean_distances\u001b[49m\u001b[43m(\u001b[49m\u001b[43mX\u001b[49m\u001b[43m,\u001b[49m\u001b[43m \u001b[49m\u001b[43mY\u001b[49m\u001b[43m,\u001b[49m\u001b[43m \u001b[49m\u001b[43mX_norm_squared\u001b[49m\u001b[43m,\u001b[49m\u001b[43m \u001b[49m\u001b[43mY_norm_squared\u001b[49m\u001b[43m,\u001b[49m\u001b[43m \u001b[49m\u001b[43msquared\u001b[49m\u001b[43m)\u001b[49m\n",
      "File \u001b[0;32m~/Dokumenty/DZD/Transaction-data/.venv/lib/python3.8/site-packages/sklearn/metrics/pairwise.py:379\u001b[0m, in \u001b[0;36m_euclidean_distances\u001b[0;34m(X, Y, X_norm_squared, Y_norm_squared, squared)\u001b[0m\n\u001b[1;32m    376\u001b[0m \u001b[38;5;28;01mif\u001b[39;00m X \u001b[38;5;129;01mis\u001b[39;00m Y:\n\u001b[1;32m    377\u001b[0m     np\u001b[38;5;241m.\u001b[39mfill_diagonal(distances, \u001b[38;5;241m0\u001b[39m)\n\u001b[0;32m--> 379\u001b[0m \u001b[38;5;28;01mreturn\u001b[39;00m distances \u001b[38;5;28;01mif\u001b[39;00m squared \u001b[38;5;28;01melse\u001b[39;00m \u001b[43mnp\u001b[49m\u001b[38;5;241;43m.\u001b[39;49m\u001b[43msqrt\u001b[49m\u001b[43m(\u001b[49m\u001b[43mdistances\u001b[49m\u001b[43m,\u001b[49m\u001b[43m \u001b[49m\u001b[43mout\u001b[49m\u001b[38;5;241;43m=\u001b[39;49m\u001b[43mdistances\u001b[49m\u001b[43m)\u001b[49m\n",
      "\u001b[0;31mKeyboardInterrupt\u001b[0m: "
     ]
    }
   ],
   "source": [
    "# xd to się nigdy nie kończy mielić unlucky\n",
    "# A list holds the silhouette coefficients for each k\n",
    "silhouette_coefficients = []\n",
    "\n",
    "# Notice we start at 2 clusters for silhouette coefficient\n",
    "for k in range(2, 11):\n",
    "    kmeans = KMeans(n_clusters=k)\n",
    "    kmeans.fit(data)\n",
    "    score = silhouette_score(data, kmeans.labels_)\n",
    "    silhouette_coefficients.append(score)"
   ]
  },
  {
   "cell_type": "code",
   "execution_count": null,
   "id": "27d1b069",
   "metadata": {},
   "outputs": [],
   "source": [
    "plt.style.use(\"fivethirtyeight\")\n",
    "plt.plot(range(2, 11), silhouette_coefficients)\n",
    "plt.xticks(range(2, 11))\n",
    "plt.xlabel(\"Number of Clusters\")\n",
    "plt.ylabel(\"Silhouette Coefficient\")\n",
    "plt.show()"
   ]
  },
  {
   "cell_type": "code",
   "execution_count": 104,
   "id": "3b23b189",
   "metadata": {},
   "outputs": [
    {
     "name": "stderr",
     "output_type": "stream",
     "text": [
      "/home/zosia/Dokumenty/DZD/Transaction-data/.venv/lib/python3.8/site-packages/sklearn/cluster/_kmeans.py:870: FutureWarning: The default value of `n_init` will change from 10 to 'auto' in 1.4. Set the value of `n_init` explicitly to suppress the warning\n",
      "  warnings.warn(\n"
     ]
    }
   ],
   "source": [
    "# ten się nie kończy\n",
    "# Instantiate k-means algorithm\n",
    "kmeans = KMeans(n_clusters=2)\n",
    "\n",
    "# Fit the algorithm to the features\n",
    "kmeans.fit(data)\n",
    "\n",
    "# Compute the silhouette scores for this algorithm\n",
    "kmeans_silhouette = silhouette_score(data, kmeans.labels_).round(2)"
   ]
  },
  {
   "cell_type": "code",
   "execution_count": 103,
   "id": "1f27ecc7",
   "metadata": {},
   "outputs": [
    {
     "ename": "ValueError",
     "evalue": "Number of labels is 1. Valid values are 2 to n_samples - 1 (inclusive)",
     "output_type": "error",
     "traceback": [
      "\u001b[0;31m---------------------------------------------------------------------------\u001b[0m",
      "\u001b[0;31mValueError\u001b[0m                                Traceback (most recent call last)",
      "Cell \u001b[0;32mIn[103], line 8\u001b[0m\n\u001b[1;32m      5\u001b[0m dbscan\u001b[38;5;241m.\u001b[39mfit(data)\n\u001b[1;32m      7\u001b[0m \u001b[38;5;66;03m# Compute the silhouette scores for this algorithm\u001b[39;00m\n\u001b[0;32m----> 8\u001b[0m dbscan_silhouette \u001b[38;5;241m=\u001b[39m \u001b[43msilhouette_score\u001b[49m\u001b[43m(\u001b[49m\u001b[43mdata\u001b[49m\u001b[43m,\u001b[49m\u001b[43m \u001b[49m\u001b[43mdbscan\u001b[49m\u001b[38;5;241;43m.\u001b[39;49m\u001b[43mlabels_\u001b[49m\u001b[43m)\u001b[49m\u001b[38;5;241m.\u001b[39mround(\u001b[38;5;241m2\u001b[39m)\n",
      "File \u001b[0;32m~/Dokumenty/DZD/Transaction-data/.venv/lib/python3.8/site-packages/sklearn/metrics/cluster/_unsupervised.py:117\u001b[0m, in \u001b[0;36msilhouette_score\u001b[0;34m(X, labels, metric, sample_size, random_state, **kwds)\u001b[0m\n\u001b[1;32m    115\u001b[0m     \u001b[38;5;28;01melse\u001b[39;00m:\n\u001b[1;32m    116\u001b[0m         X, labels \u001b[38;5;241m=\u001b[39m X[indices], labels[indices]\n\u001b[0;32m--> 117\u001b[0m \u001b[38;5;28;01mreturn\u001b[39;00m np\u001b[38;5;241m.\u001b[39mmean(\u001b[43msilhouette_samples\u001b[49m\u001b[43m(\u001b[49m\u001b[43mX\u001b[49m\u001b[43m,\u001b[49m\u001b[43m \u001b[49m\u001b[43mlabels\u001b[49m\u001b[43m,\u001b[49m\u001b[43m \u001b[49m\u001b[43mmetric\u001b[49m\u001b[38;5;241;43m=\u001b[39;49m\u001b[43mmetric\u001b[49m\u001b[43m,\u001b[49m\u001b[43m \u001b[49m\u001b[38;5;241;43m*\u001b[39;49m\u001b[38;5;241;43m*\u001b[39;49m\u001b[43mkwds\u001b[49m\u001b[43m)\u001b[49m)\n",
      "File \u001b[0;32m~/Dokumenty/DZD/Transaction-data/.venv/lib/python3.8/site-packages/sklearn/metrics/cluster/_unsupervised.py:231\u001b[0m, in \u001b[0;36msilhouette_samples\u001b[0;34m(X, labels, metric, **kwds)\u001b[0m\n\u001b[1;32m    229\u001b[0m n_samples \u001b[38;5;241m=\u001b[39m \u001b[38;5;28mlen\u001b[39m(labels)\n\u001b[1;32m    230\u001b[0m label_freqs \u001b[38;5;241m=\u001b[39m np\u001b[38;5;241m.\u001b[39mbincount(labels)\n\u001b[0;32m--> 231\u001b[0m \u001b[43mcheck_number_of_labels\u001b[49m\u001b[43m(\u001b[49m\u001b[38;5;28;43mlen\u001b[39;49m\u001b[43m(\u001b[49m\u001b[43mle\u001b[49m\u001b[38;5;241;43m.\u001b[39;49m\u001b[43mclasses_\u001b[49m\u001b[43m)\u001b[49m\u001b[43m,\u001b[49m\u001b[43m \u001b[49m\u001b[43mn_samples\u001b[49m\u001b[43m)\u001b[49m\n\u001b[1;32m    233\u001b[0m kwds[\u001b[38;5;124m\"\u001b[39m\u001b[38;5;124mmetric\u001b[39m\u001b[38;5;124m\"\u001b[39m] \u001b[38;5;241m=\u001b[39m metric\n\u001b[1;32m    234\u001b[0m reduce_func \u001b[38;5;241m=\u001b[39m functools\u001b[38;5;241m.\u001b[39mpartial(\n\u001b[1;32m    235\u001b[0m     _silhouette_reduce, labels\u001b[38;5;241m=\u001b[39mlabels, label_freqs\u001b[38;5;241m=\u001b[39mlabel_freqs\n\u001b[1;32m    236\u001b[0m )\n",
      "File \u001b[0;32m~/Dokumenty/DZD/Transaction-data/.venv/lib/python3.8/site-packages/sklearn/metrics/cluster/_unsupervised.py:33\u001b[0m, in \u001b[0;36mcheck_number_of_labels\u001b[0;34m(n_labels, n_samples)\u001b[0m\n\u001b[1;32m     22\u001b[0m \u001b[38;5;250m\u001b[39m\u001b[38;5;124;03m\"\"\"Check that number of labels are valid.\u001b[39;00m\n\u001b[1;32m     23\u001b[0m \n\u001b[1;32m     24\u001b[0m \u001b[38;5;124;03mParameters\u001b[39;00m\n\u001b[0;32m   (...)\u001b[0m\n\u001b[1;32m     30\u001b[0m \u001b[38;5;124;03m    Number of samples.\u001b[39;00m\n\u001b[1;32m     31\u001b[0m \u001b[38;5;124;03m\"\"\"\u001b[39;00m\n\u001b[1;32m     32\u001b[0m \u001b[38;5;28;01mif\u001b[39;00m \u001b[38;5;129;01mnot\u001b[39;00m \u001b[38;5;241m1\u001b[39m \u001b[38;5;241m<\u001b[39m n_labels \u001b[38;5;241m<\u001b[39m n_samples:\n\u001b[0;32m---> 33\u001b[0m     \u001b[38;5;28;01mraise\u001b[39;00m \u001b[38;5;167;01mValueError\u001b[39;00m(\n\u001b[1;32m     34\u001b[0m         \u001b[38;5;124m\"\u001b[39m\u001b[38;5;124mNumber of labels is \u001b[39m\u001b[38;5;132;01m%d\u001b[39;00m\u001b[38;5;124m. Valid values are 2 to n_samples - 1 (inclusive)\u001b[39m\u001b[38;5;124m\"\u001b[39m\n\u001b[1;32m     35\u001b[0m         \u001b[38;5;241m%\u001b[39m n_labels\n\u001b[1;32m     36\u001b[0m     )\n",
      "\u001b[0;31mValueError\u001b[0m: Number of labels is 1. Valid values are 2 to n_samples - 1 (inclusive)"
     ]
    }
   ],
   "source": [
    "# a ten wybombia jakiś błąd, może od złego eps? bo on chyba powinien być na podstawie tych\n",
    "# silhouette_coefficients, które też się nie kończą\n",
    "# Instantiate dbscan algorithm\n",
    "dbscan = DBSCAN(eps=0.3)\n",
    "\n",
    "# Fit the algorithm to the features\n",
    "dbscan.fit(data)\n",
    "\n",
    "# Compute the silhouette scores for this algorithm\n",
    "dbscan_silhouette = silhouette_score(data, dbscan.labels_).round(2)"
   ]
  },
  {
   "cell_type": "code",
   "execution_count": null,
   "id": "cbc317fc",
   "metadata": {},
   "outputs": [],
   "source": []
  }
 ],
 "metadata": {
  "kernelspec": {
   "display_name": "Python 3 (ipykernel)",
   "language": "python",
   "name": "python3"
  },
  "language_info": {
   "codemirror_mode": {
    "name": "ipython",
    "version": 3
   },
   "file_extension": ".py",
   "mimetype": "text/x-python",
   "name": "python",
   "nbconvert_exporter": "python",
   "pygments_lexer": "ipython3",
   "version": "3.8.10"
  }
 },
 "nbformat": 4,
 "nbformat_minor": 5
}
